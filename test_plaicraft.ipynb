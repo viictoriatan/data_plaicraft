{
 "cells": [
  {
   "cell_type": "markdown",
   "id": "65005c57-c877-4355-9cdb-9fa9d2cc4a45",
   "metadata": {},
   "source": [
    "**DSCI 100: PLAICraft Analysis & Report**"
   ]
  },
  {
   "cell_type": "code",
   "execution_count": 2,
   "id": "daeeccf0-56b5-41db-a706-409ab500a76f",
   "metadata": {},
   "outputs": [
    {
     "name": "stderr",
     "output_type": "stream",
     "text": [
      "── \u001b[1mAttaching core tidyverse packages\u001b[22m ──────────────────────── tidyverse 2.0.0 ──\n",
      "\u001b[32m✔\u001b[39m \u001b[34mdplyr    \u001b[39m 1.1.4     \u001b[32m✔\u001b[39m \u001b[34mreadr    \u001b[39m 2.1.5\n",
      "\u001b[32m✔\u001b[39m \u001b[34mforcats  \u001b[39m 1.0.0     \u001b[32m✔\u001b[39m \u001b[34mstringr  \u001b[39m 1.5.1\n",
      "\u001b[32m✔\u001b[39m \u001b[34mggplot2  \u001b[39m 3.5.1     \u001b[32m✔\u001b[39m \u001b[34mtibble   \u001b[39m 3.2.1\n",
      "\u001b[32m✔\u001b[39m \u001b[34mlubridate\u001b[39m 1.9.3     \u001b[32m✔\u001b[39m \u001b[34mtidyr    \u001b[39m 1.3.1\n",
      "\u001b[32m✔\u001b[39m \u001b[34mpurrr    \u001b[39m 1.0.2     \n",
      "── \u001b[1mConflicts\u001b[22m ────────────────────────────────────────── tidyverse_conflicts() ──\n",
      "\u001b[31m✖\u001b[39m \u001b[34mdplyr\u001b[39m::\u001b[32mfilter()\u001b[39m masks \u001b[34mstats\u001b[39m::filter()\n",
      "\u001b[31m✖\u001b[39m \u001b[34mdplyr\u001b[39m::\u001b[32mlag()\u001b[39m    masks \u001b[34mstats\u001b[39m::lag()\n",
      "\u001b[36mℹ\u001b[39m Use the conflicted package (\u001b[3m\u001b[34m<http://conflicted.r-lib.org/>\u001b[39m\u001b[23m) to force all conflicts to become errors\n"
     ]
    }
   ],
   "source": [
    "library(tidyverse)"
   ]
  },
  {
   "cell_type": "code",
   "execution_count": 5,
   "id": "9622a216-aea6-476d-a5d2-6718dbc82f38",
   "metadata": {},
   "outputs": [
    {
     "name": "stderr",
     "output_type": "stream",
     "text": [
      "\u001b[1mRows: \u001b[22m\u001b[34m196\u001b[39m \u001b[1mColumns: \u001b[22m\u001b[34m7\u001b[39m\n",
      "\u001b[36m──\u001b[39m \u001b[1mColumn specification\u001b[22m \u001b[36m────────────────────────────────────────────────────────\u001b[39m\n",
      "\u001b[1mDelimiter:\u001b[22m \",\"\n",
      "\u001b[31mchr\u001b[39m (4): experience, hashedEmail, name, gender\n",
      "\u001b[32mdbl\u001b[39m (2): played_hours, Age\n",
      "\u001b[33mlgl\u001b[39m (1): subscribe\n",
      "\n",
      "\u001b[36mℹ\u001b[39m Use `spec()` to retrieve the full column specification for this data.\n",
      "\u001b[36mℹ\u001b[39m Specify the column types or set `show_col_types = FALSE` to quiet this message.\n"
     ]
    },
    {
     "data": {
      "text/html": [
       "<table class=\"dataframe\">\n",
       "<caption>A tibble: 25 × 6</caption>\n",
       "<thead>\n",
       "\t<tr><th scope=col>experience</th><th scope=col>subscribe</th><th scope=col>played_hours</th><th scope=col>name</th><th scope=col>gender</th><th scope=col>Age</th></tr>\n",
       "\t<tr><th scope=col>&lt;chr&gt;</th><th scope=col>&lt;lgl&gt;</th><th scope=col>&lt;dbl&gt;</th><th scope=col>&lt;chr&gt;</th><th scope=col>&lt;chr&gt;</th><th scope=col>&lt;dbl&gt;</th></tr>\n",
       "</thead>\n",
       "<tbody>\n",
       "\t<tr><td>Pro     </td><td> TRUE</td><td> 30.3</td><td>Morgan   </td><td>Male      </td><td> 9</td></tr>\n",
       "\t<tr><td>Veteran </td><td> TRUE</td><td>  3.8</td><td>Christian</td><td>Male      </td><td>17</td></tr>\n",
       "\t<tr><td>Amateur </td><td> TRUE</td><td> 48.4</td><td>Xander   </td><td>Female    </td><td>17</td></tr>\n",
       "\t<tr><td>Regular </td><td> TRUE</td><td>  5.6</td><td>Winslow  </td><td>Male      </td><td>17</td></tr>\n",
       "\t<tr><td>Veteran </td><td> TRUE</td><td>  2.2</td><td>Cyrus    </td><td>Male      </td><td>24</td></tr>\n",
       "\t<tr><td>Veteran </td><td> TRUE</td><td> 12.5</td><td>Isidore  </td><td>Agender   </td><td>27</td></tr>\n",
       "\t<tr><td>Regular </td><td> TRUE</td><td>218.1</td><td>Akio     </td><td>Non-binary</td><td>20</td></tr>\n",
       "\t<tr><td>Amateur </td><td> TRUE</td><td>  2.9</td><td>Rafael   </td><td>Male      </td><td>11</td></tr>\n",
       "\t<tr><td>Regular </td><td> TRUE</td><td>  3.6</td><td>Zane     </td><td>Male      </td><td>10</td></tr>\n",
       "\t<tr><td>Amateur </td><td> TRUE</td><td> 17.2</td><td>Kyrie    </td><td>Male      </td><td>14</td></tr>\n",
       "\t<tr><td>Amateur </td><td> TRUE</td><td> 53.9</td><td>Alex     </td><td>Male      </td><td>17</td></tr>\n",
       "\t<tr><td>Regular </td><td> TRUE</td><td>223.1</td><td>Hiroshi  </td><td>Male      </td><td>17</td></tr>\n",
       "\t<tr><td>Amateur </td><td> TRUE</td><td>  3.5</td><td>Madison  </td><td>Female    </td><td>21</td></tr>\n",
       "\t<tr><td>Amateur </td><td> TRUE</td><td>150.0</td><td>Delara   </td><td>Female    </td><td>16</td></tr>\n",
       "\t<tr><td>Veteran </td><td>FALSE</td><td>  2.7</td><td>Sophia   </td><td>Female    </td><td>22</td></tr>\n",
       "\t<tr><td>Regular </td><td> TRUE</td><td>  4.0</td><td>Scarlett </td><td>Male      </td><td>21</td></tr>\n",
       "\t<tr><td>Beginner</td><td>FALSE</td><td>  7.1</td><td>Arash    </td><td>Male      </td><td>17</td></tr>\n",
       "\t<tr><td>Regular </td><td> TRUE</td><td> 18.5</td><td>Dante    </td><td>Male      </td><td>49</td></tr>\n",
       "\t<tr><td>Amateur </td><td> TRUE</td><td> 56.1</td><td>Dana     </td><td>Male      </td><td>23</td></tr>\n",
       "\t<tr><td>Beginner</td><td> TRUE</td><td> 23.7</td><td>Isla     </td><td>Male      </td><td>24</td></tr>\n",
       "\t<tr><td>Regular </td><td> TRUE</td><td>178.2</td><td>Piper    </td><td>Female    </td><td>19</td></tr>\n",
       "\t<tr><td>Veteran </td><td>FALSE</td><td>  2.7</td><td>Jamie    </td><td>Non-binary</td><td>21</td></tr>\n",
       "\t<tr><td>Amateur </td><td>FALSE</td><td>  2.1</td><td>Sebastián</td><td>Male      </td><td>24</td></tr>\n",
       "\t<tr><td>Amateur </td><td> TRUE</td><td> 32.0</td><td>Sidney   </td><td>Male      </td><td>22</td></tr>\n",
       "\t<tr><td>Amateur </td><td>FALSE</td><td>  2.3</td><td>Harlow   </td><td>Male      </td><td>17</td></tr>\n",
       "</tbody>\n",
       "</table>\n"
      ],
      "text/latex": [
       "A tibble: 25 × 6\n",
       "\\begin{tabular}{llllll}\n",
       " experience & subscribe & played\\_hours & name & gender & Age\\\\\n",
       " <chr> & <lgl> & <dbl> & <chr> & <chr> & <dbl>\\\\\n",
       "\\hline\n",
       "\t Pro      &  TRUE &  30.3 & Morgan    & Male       &  9\\\\\n",
       "\t Veteran  &  TRUE &   3.8 & Christian & Male       & 17\\\\\n",
       "\t Amateur  &  TRUE &  48.4 & Xander    & Female     & 17\\\\\n",
       "\t Regular  &  TRUE &   5.6 & Winslow   & Male       & 17\\\\\n",
       "\t Veteran  &  TRUE &   2.2 & Cyrus     & Male       & 24\\\\\n",
       "\t Veteran  &  TRUE &  12.5 & Isidore   & Agender    & 27\\\\\n",
       "\t Regular  &  TRUE & 218.1 & Akio      & Non-binary & 20\\\\\n",
       "\t Amateur  &  TRUE &   2.9 & Rafael    & Male       & 11\\\\\n",
       "\t Regular  &  TRUE &   3.6 & Zane      & Male       & 10\\\\\n",
       "\t Amateur  &  TRUE &  17.2 & Kyrie     & Male       & 14\\\\\n",
       "\t Amateur  &  TRUE &  53.9 & Alex      & Male       & 17\\\\\n",
       "\t Regular  &  TRUE & 223.1 & Hiroshi   & Male       & 17\\\\\n",
       "\t Amateur  &  TRUE &   3.5 & Madison   & Female     & 21\\\\\n",
       "\t Amateur  &  TRUE & 150.0 & Delara    & Female     & 16\\\\\n",
       "\t Veteran  & FALSE &   2.7 & Sophia    & Female     & 22\\\\\n",
       "\t Regular  &  TRUE &   4.0 & Scarlett  & Male       & 21\\\\\n",
       "\t Beginner & FALSE &   7.1 & Arash     & Male       & 17\\\\\n",
       "\t Regular  &  TRUE &  18.5 & Dante     & Male       & 49\\\\\n",
       "\t Amateur  &  TRUE &  56.1 & Dana      & Male       & 23\\\\\n",
       "\t Beginner &  TRUE &  23.7 & Isla      & Male       & 24\\\\\n",
       "\t Regular  &  TRUE & 178.2 & Piper     & Female     & 19\\\\\n",
       "\t Veteran  & FALSE &   2.7 & Jamie     & Non-binary & 21\\\\\n",
       "\t Amateur  & FALSE &   2.1 & Sebastián & Male       & 24\\\\\n",
       "\t Amateur  &  TRUE &  32.0 & Sidney    & Male       & 22\\\\\n",
       "\t Amateur  & FALSE &   2.3 & Harlow    & Male       & 17\\\\\n",
       "\\end{tabular}\n"
      ],
      "text/markdown": [
       "\n",
       "A tibble: 25 × 6\n",
       "\n",
       "| experience &lt;chr&gt; | subscribe &lt;lgl&gt; | played_hours &lt;dbl&gt; | name &lt;chr&gt; | gender &lt;chr&gt; | Age &lt;dbl&gt; |\n",
       "|---|---|---|---|---|---|\n",
       "| Pro      |  TRUE |  30.3 | Morgan    | Male       |  9 |\n",
       "| Veteran  |  TRUE |   3.8 | Christian | Male       | 17 |\n",
       "| Amateur  |  TRUE |  48.4 | Xander    | Female     | 17 |\n",
       "| Regular  |  TRUE |   5.6 | Winslow   | Male       | 17 |\n",
       "| Veteran  |  TRUE |   2.2 | Cyrus     | Male       | 24 |\n",
       "| Veteran  |  TRUE |  12.5 | Isidore   | Agender    | 27 |\n",
       "| Regular  |  TRUE | 218.1 | Akio      | Non-binary | 20 |\n",
       "| Amateur  |  TRUE |   2.9 | Rafael    | Male       | 11 |\n",
       "| Regular  |  TRUE |   3.6 | Zane      | Male       | 10 |\n",
       "| Amateur  |  TRUE |  17.2 | Kyrie     | Male       | 14 |\n",
       "| Amateur  |  TRUE |  53.9 | Alex      | Male       | 17 |\n",
       "| Regular  |  TRUE | 223.1 | Hiroshi   | Male       | 17 |\n",
       "| Amateur  |  TRUE |   3.5 | Madison   | Female     | 21 |\n",
       "| Amateur  |  TRUE | 150.0 | Delara    | Female     | 16 |\n",
       "| Veteran  | FALSE |   2.7 | Sophia    | Female     | 22 |\n",
       "| Regular  |  TRUE |   4.0 | Scarlett  | Male       | 21 |\n",
       "| Beginner | FALSE |   7.1 | Arash     | Male       | 17 |\n",
       "| Regular  |  TRUE |  18.5 | Dante     | Male       | 49 |\n",
       "| Amateur  |  TRUE |  56.1 | Dana      | Male       | 23 |\n",
       "| Beginner |  TRUE |  23.7 | Isla      | Male       | 24 |\n",
       "| Regular  |  TRUE | 178.2 | Piper     | Female     | 19 |\n",
       "| Veteran  | FALSE |   2.7 | Jamie     | Non-binary | 21 |\n",
       "| Amateur  | FALSE |   2.1 | Sebastián | Male       | 24 |\n",
       "| Amateur  |  TRUE |  32.0 | Sidney    | Male       | 22 |\n",
       "| Amateur  | FALSE |   2.3 | Harlow    | Male       | 17 |\n",
       "\n"
      ],
      "text/plain": [
       "   experience subscribe played_hours name      gender     Age\n",
       "1  Pro         TRUE      30.3        Morgan    Male        9 \n",
       "2  Veteran     TRUE       3.8        Christian Male       17 \n",
       "3  Amateur     TRUE      48.4        Xander    Female     17 \n",
       "4  Regular     TRUE       5.6        Winslow   Male       17 \n",
       "5  Veteran     TRUE       2.2        Cyrus     Male       24 \n",
       "6  Veteran     TRUE      12.5        Isidore   Agender    27 \n",
       "7  Regular     TRUE     218.1        Akio      Non-binary 20 \n",
       "8  Amateur     TRUE       2.9        Rafael    Male       11 \n",
       "9  Regular     TRUE       3.6        Zane      Male       10 \n",
       "10 Amateur     TRUE      17.2        Kyrie     Male       14 \n",
       "11 Amateur     TRUE      53.9        Alex      Male       17 \n",
       "12 Regular     TRUE     223.1        Hiroshi   Male       17 \n",
       "13 Amateur     TRUE       3.5        Madison   Female     21 \n",
       "14 Amateur     TRUE     150.0        Delara    Female     16 \n",
       "15 Veteran    FALSE       2.7        Sophia    Female     22 \n",
       "16 Regular     TRUE       4.0        Scarlett  Male       21 \n",
       "17 Beginner   FALSE       7.1        Arash     Male       17 \n",
       "18 Regular     TRUE      18.5        Dante     Male       49 \n",
       "19 Amateur     TRUE      56.1        Dana      Male       23 \n",
       "20 Beginner    TRUE      23.7        Isla      Male       24 \n",
       "21 Regular     TRUE     178.2        Piper     Female     19 \n",
       "22 Veteran    FALSE       2.7        Jamie     Non-binary 21 \n",
       "23 Amateur    FALSE       2.1        Sebastián Male       24 \n",
       "24 Amateur     TRUE      32.0        Sidney    Male       22 \n",
       "25 Amateur    FALSE       2.3        Harlow    Male       17 "
      ]
     },
     "metadata": {},
     "output_type": "display_data"
    }
   ],
   "source": [
    "players <- read_csv(\"players.csv\") |> \n",
    "    select(-hashedEmail) |> \n",
    "    filter(played_hours>2)\n",
    "players"
   ]
  },
  {
   "cell_type": "code",
   "execution_count": null,
   "id": "0836c630-e513-41c9-a1d4-038a26873f66",
   "metadata": {},
   "outputs": [],
   "source": []
  }
 ],
 "metadata": {
  "kernelspec": {
   "display_name": "R",
   "language": "R",
   "name": "ir"
  },
  "language_info": {
   "codemirror_mode": "r",
   "file_extension": ".r",
   "mimetype": "text/x-r-source",
   "name": "R",
   "pygments_lexer": "r",
   "version": "4.3.3"
  }
 },
 "nbformat": 4,
 "nbformat_minor": 5
}
