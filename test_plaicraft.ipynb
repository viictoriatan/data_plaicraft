{
 "cells": [
  {
   "cell_type": "markdown",
   "id": "65005c57-c877-4355-9cdb-9fa9d2cc4a45",
   "metadata": {},
   "source": [
    "**DSCI 100: PLAICraft Analysis & Report**"
   ]
  },
  {
   "cell_type": "code",
   "execution_count": null,
   "id": "9622a216-aea6-476d-a5d2-6718dbc82f38",
   "metadata": {},
   "outputs": [],
   "source": []
  }
 ],
 "metadata": {
  "kernelspec": {
   "display_name": "R",
   "language": "R",
   "name": "ir"
  },
  "language_info": {
   "codemirror_mode": "r",
   "file_extension": ".r",
   "mimetype": "text/x-r-source",
   "name": "R",
   "pygments_lexer": "r",
   "version": "4.3.3"
  }
 },
 "nbformat": 4,
 "nbformat_minor": 5
}
